{
 "cells": [
  {
   "cell_type": "code",
   "execution_count": 2,
   "metadata": {},
   "outputs": [],
   "source": [
    "from googleapiclient.discovery import build, HttpError\n",
    "import os\n",
    "from dotenv import load_dotenv"
   ]
  },
  {
   "cell_type": "code",
   "execution_count": 3,
   "metadata": {},
   "outputs": [],
   "source": [
    "api_service_name = \"youtube\"\n",
    "api_version = \"v3\"\n",
    "current_key_index = 0\n",
    "\n",
    "def build_youtube_service(api_key):\n",
    "    return build(api_service_name, api_version, developerKey=api_key)"
   ]
  },
  {
   "cell_type": "code",
   "execution_count": 4,
   "metadata": {},
   "outputs": [],
   "source": [
    "load_dotenv()\n",
    "\n",
    "# Get API keys from environment variable and split them into a list\n",
    "api_keys = os.getenv(\"API_KEYS\").split(',')"
   ]
  },
  {
   "cell_type": "code",
   "execution_count": 5,
   "metadata": {},
   "outputs": [],
   "source": [
    "youtube = build_youtube_service(api_keys[current_key_index])"
   ]
  },
  {
   "cell_type": "code",
   "execution_count": 6,
   "metadata": {},
   "outputs": [],
   "source": [
    "channel_id = 'UC9CKy1ai9qI8p6_Oh0Qa3Rg'"
   ]
  },
  {
   "cell_type": "code",
   "execution_count": 8,
   "metadata": {},
   "outputs": [
    {
     "data": {
      "text/plain": [
       "{'id': 'UC9CKy1ai9qI8p6_Oh0Qa3Rg',\n",
       " 'snippet': {'title': 'Sharique Samsudheen',\n",
       "  'description': 'The name is Sharique Samsudheen. Born and raised in Kollam, Kerala. Attended NIT Jamshedpur. To put in simple words, I am a blend of the following 3 books:\\n\\n1. Rich Dad Poor Dad - Robert T Kiyosaki\\n2. Sapiens - Yuval Noah Harari\\n3. Crush It - Gary Vaynerchuk\\n\\nWelcome to my YouTube Channel! Welcome to My Life and My Thoughts! Cheers!\\n\\n100 Subscribers - 31 July 2018\\n500 Subscribers - 21 August 2018\\n1000 Subscribers - 25 August 2018\\n10,000 Subscribers - 1 September, 2018\\n25,000 Subscribers - 15 September, 2018\\n50,000 Subscribers - 9 November, 2018\\n100,000 Subscribers - 16 January, 2019',\n",
       "  'publishedAt': '2014-05-15T04:29:19Z',\n",
       "  'thumbnails': {'high': {'url': 'https://yt3.ggpht.com/3m7YWoidzuek7zpRiyFbszyDeNGiWvW2G3gu2TCx2N99i7d5AhZO6HP7PsdsyrlUQVd-eo_ZI-Q=s800-c-k-c0x00ffffff-no-rj',\n",
       "    'width': 800,\n",
       "    'height': 800}},\n",
       "  'localized': {'title': 'Sharique Samsudheen',\n",
       "   'description': 'The name is Sharique Samsudheen. Born and raised in Kollam, Kerala. Attended NIT Jamshedpur. To put in simple words, I am a blend of the following 3 books:\\n\\n1. Rich Dad Poor Dad - Robert T Kiyosaki\\n2. Sapiens - Yuval Noah Harari\\n3. Crush It - Gary Vaynerchuk\\n\\nWelcome to my YouTube Channel! Welcome to My Life and My Thoughts! Cheers!\\n\\n100 Subscribers - 31 July 2018\\n500 Subscribers - 21 August 2018\\n1000 Subscribers - 25 August 2018\\n10,000 Subscribers - 1 September, 2018\\n25,000 Subscribers - 15 September, 2018\\n50,000 Subscribers - 9 November, 2018\\n100,000 Subscribers - 16 January, 2019'},\n",
       "  'country': 'IN'},\n",
       " 'contentDetails': {'relatedPlaylists': {'uploads': 'UU9CKy1ai9qI8p6_Oh0Qa3Rg'}},\n",
       " 'statistics': {'viewCount': '101073576',\n",
       "  'subscriberCount': '1410000',\n",
       "  'videoCount': '348'},\n",
       " 'status': {'privacyStatus': 'public'},\n",
       " 'brandingSettings': {'channel': {'title': 'Sharique Samsudheen',\n",
       "   'description': 'The name is Sharique Samsudheen. Born and raised in Kollam, Kerala. Attended NIT Jamshedpur. To put in simple words, I am a blend of the following 3 books:\\n\\n1. Rich Dad Poor Dad - Robert T Kiyosaki\\n2. Sapiens - Yuval Noah Harari\\n3. Crush It - Gary Vaynerchuk\\n\\nWelcome to my YouTube Channel! Welcome to My Life and My Thoughts! Cheers!\\n\\n100 Subscribers - 31 July 2018\\n500 Subscribers - 21 August 2018\\n1000 Subscribers - 25 August 2018\\n10,000 Subscribers - 1 September, 2018\\n25,000 Subscribers - 15 September, 2018\\n50,000 Subscribers - 9 November, 2018\\n100,000 Subscribers - 16 January, 2019',\n",
       "   'keywords': 'malayalam finance money advice motivation education business entrepreneurship sharique samsudheen \"stock market\" \"mutual funds\" \"personal finance\" \"intraday trading\" \"share market\" fundfolio',\n",
       "   'unsubscribedTrailer': 'AqsOc4FR4sY',\n",
       "   'country': 'IN'},\n",
       "  'image': {'bannerExternalUrl': 'https://yt3.googleusercontent.com/A52mpicO1O2_onXt2PZnRZ_V3gfYZPNy264gAkul6VY9FoPzRCg9R7Oy4TNlDB3JxrHMcJbt'}}}"
      ]
     },
     "execution_count": 8,
     "metadata": {},
     "output_type": "execute_result"
    }
   ],
   "source": [
    "while True:\n",
    "    try:\n",
    "        youtube = build_youtube_service(api_keys[current_key_index])\n",
    "        request = youtube.channels().list(\n",
    "            part=\"brandingSettings,contentDetails,contentOwnerDetails,id,localizations,snippet,statistics,status,topicDetails\",\n",
    "            id=channel_id,\n",
    "            fields=\"items(id,snippet(title,description,publishedAt,thumbnails(high),localized,country),statistics(viewCount,subscriberCount,videoCount),status(privacyStatus,madeForKids),brandingSettings(image,channel),contentDetails(relatedPlaylists(uploads)))\"\n",
    "        )\n",
    "\n",
    "        response = request.execute()\n",
    "        break\n",
    "\n",
    "    except HttpError as e:\n",
    "        if e.resp.status == 403 and 'exceeded' in e.reason:\n",
    "            print(f\"Quota exceeded for key: {api_keys[current_key_index]}. Trying next key...\")\n",
    "            current_key_index = (current_key_index + 1) % len(api_keys)\n",
    "            # await asyncio.sleep(1)  # Avoid too rapid retries\n",
    "        else:\n",
    "            print(f\"API Error: {str(e)}\")\n",
    "\n",
    "channel_details_clean = response.get('items', [{}])[0]\n",
    "channel_details_clean"
   ]
  },
  {
   "cell_type": "code",
   "execution_count": 15,
   "metadata": {},
   "outputs": [
    {
     "name": "stdout",
     "output_type": "stream",
     "text": [
      "None\n"
     ]
    }
   ],
   "source": [
    "made_for_kids = channel_details_clean.get(\"status\", {}).get(\"madeForKids\", None)\n",
    "print(made_for_kids)"
   ]
  },
  {
   "cell_type": "code",
   "execution_count": 16,
   "metadata": {},
   "outputs": [],
   "source": [
    "channel_details_clean.get(\"status\", {}).get(\"madeForKids\")"
   ]
  },
  {
   "cell_type": "code",
   "execution_count": 18,
   "metadata": {},
   "outputs": [],
   "source": [
    "a = {'channel_made_for_kids':made_for_kids}"
   ]
  },
  {
   "cell_type": "code",
   "execution_count": 24,
   "metadata": {},
   "outputs": [
    {
     "data": {
      "text/plain": [
       "{'channel_made_for_kids': None}"
      ]
     },
     "execution_count": 24,
     "metadata": {},
     "output_type": "execute_result"
    }
   ],
   "source": [
    "a"
   ]
  },
  {
   "cell_type": "code",
   "execution_count": null,
   "metadata": {},
   "outputs": [],
   "source": []
  }
 ],
 "metadata": {
  "kernelspec": {
   "display_name": "Python 3",
   "language": "python",
   "name": "python3"
  },
  "language_info": {
   "codemirror_mode": {
    "name": "ipython",
    "version": 3
   },
   "file_extension": ".py",
   "mimetype": "text/x-python",
   "name": "python",
   "nbconvert_exporter": "python",
   "pygments_lexer": "ipython3",
   "version": "3.12.3"
  }
 },
 "nbformat": 4,
 "nbformat_minor": 2
}
